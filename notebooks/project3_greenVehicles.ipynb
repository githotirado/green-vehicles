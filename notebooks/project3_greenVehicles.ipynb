{
 "cells": [
  {
   "cell_type": "markdown",
   "id": "0f7dcc3d-8dbb-468b-abf5-4293fabd1984",
   "metadata": {},
   "source": [
    "# Pre-requisites:\n",
    "* Connection information to our team PostgreSQL database at AWS. You will need it for your config.py file that resides in the same folder as this notebook. Example:\n",
    "\n",
    "username = \"######\"\n",
    "\n",
    "password = \"######\"\n",
    "\n",
    "host = \"database-bootcamp.cdykxayfkga1.us-west-1.rds.amazonaws.com\"\n",
    "\n",
    "port = 5432\n",
    "\n",
    "database = \"greenVehicles\"\n"
   ]
  },
  {
   "cell_type": "markdown",
   "id": "e7e7228c-c2f6-4a63-933e-688a71c07501",
   "metadata": {},
   "source": [
    "# 1. (EXTRACT) VEHICLES REGISTERED IN CALIFORNIA BY ZIP, FUEL, MAKE, YEAR\n",
    "\n",
    "Dataset location: https://data.ca.gov/dataset/vehicle-fuel-type-count-by-zip-code\n",
    "\n"
   ]
  },
  {
   "cell_type": "code",
   "execution_count": 1,
   "id": "eac2cca1-aa71-44f7-8f16-3c8558fe4010",
   "metadata": {},
   "outputs": [],
   "source": [
    "# Import required modules and variables\n",
    "import pandas as pd\n",
    "import requests\n",
    "import pprint\n",
    "from config import username, password, host, port, database"
   ]
  },
  {
   "cell_type": "code",
   "execution_count": 2,
   "id": "beb2d221-321f-4ee3-80fe-6b0e505c0674",
   "metadata": {},
   "outputs": [
    {
     "name": "stderr",
     "output_type": "stream",
     "text": [
      "/Users/henrytirado/opt/anaconda3/lib/python3.8/site-packages/IPython/core/interactiveshell.py:3165: DtypeWarning: Columns (2) have mixed types.Specify dtype option on import or set low_memory=False.\n",
      "  has_raised = await self.run_ast_nodes(code_ast.body, cell_name,\n"
     ]
    },
    {
     "data": {
      "text/html": [
       "<div>\n",
       "<style scoped>\n",
       "    .dataframe tbody tr th:only-of-type {\n",
       "        vertical-align: middle;\n",
       "    }\n",
       "\n",
       "    .dataframe tbody tr th {\n",
       "        vertical-align: top;\n",
       "    }\n",
       "\n",
       "    .dataframe thead th {\n",
       "        text-align: right;\n",
       "    }\n",
       "</style>\n",
       "<table border=\"1\" class=\"dataframe\">\n",
       "  <thead>\n",
       "    <tr style=\"text-align: right;\">\n",
       "      <th></th>\n",
       "      <th>Date</th>\n",
       "      <th>Zip Code</th>\n",
       "      <th>Model Year</th>\n",
       "      <th>Fuel</th>\n",
       "      <th>Make</th>\n",
       "      <th>Duty</th>\n",
       "      <th>Vehicles</th>\n",
       "    </tr>\n",
       "  </thead>\n",
       "  <tbody>\n",
       "    <tr>\n",
       "      <th>0</th>\n",
       "      <td>1/1/2020</td>\n",
       "      <td>90001</td>\n",
       "      <td>2007</td>\n",
       "      <td>Gasoline</td>\n",
       "      <td>ACURA</td>\n",
       "      <td>Light</td>\n",
       "      <td>15</td>\n",
       "    </tr>\n",
       "    <tr>\n",
       "      <th>1</th>\n",
       "      <td>1/1/2020</td>\n",
       "      <td>90002</td>\n",
       "      <td>2007</td>\n",
       "      <td>Gasoline</td>\n",
       "      <td>ACURA</td>\n",
       "      <td>Light</td>\n",
       "      <td>20</td>\n",
       "    </tr>\n",
       "    <tr>\n",
       "      <th>2</th>\n",
       "      <td>1/1/2020</td>\n",
       "      <td>90003</td>\n",
       "      <td>2007</td>\n",
       "      <td>Gasoline</td>\n",
       "      <td>ACURA</td>\n",
       "      <td>Light</td>\n",
       "      <td>29</td>\n",
       "    </tr>\n",
       "    <tr>\n",
       "      <th>3</th>\n",
       "      <td>1/1/2020</td>\n",
       "      <td>90004</td>\n",
       "      <td>2007</td>\n",
       "      <td>Gasoline</td>\n",
       "      <td>ACURA</td>\n",
       "      <td>Light</td>\n",
       "      <td>19</td>\n",
       "    </tr>\n",
       "    <tr>\n",
       "      <th>4</th>\n",
       "      <td>1/1/2020</td>\n",
       "      <td>90006</td>\n",
       "      <td>2007</td>\n",
       "      <td>Gasoline</td>\n",
       "      <td>ACURA</td>\n",
       "      <td>Light</td>\n",
       "      <td>15</td>\n",
       "    </tr>\n",
       "  </tbody>\n",
       "</table>\n",
       "</div>"
      ],
      "text/plain": [
       "       Date Zip Code Model Year      Fuel   Make   Duty  Vehicles\n",
       "0  1/1/2020    90001       2007  Gasoline  ACURA  Light        15\n",
       "1  1/1/2020    90002       2007  Gasoline  ACURA  Light        20\n",
       "2  1/1/2020    90003       2007  Gasoline  ACURA  Light        29\n",
       "3  1/1/2020    90004       2007  Gasoline  ACURA  Light        19\n",
       "4  1/1/2020    90006       2007  Gasoline  ACURA  Light        15"
      ]
     },
     "execution_count": 2,
     "metadata": {},
     "output_type": "execute_result"
    }
   ],
   "source": [
    "# Reference the dataset downloaded from\n",
    "# https://data.ca.gov/dataset/vehicle-fuel-type-count-by-zip-code for year 2020 vehicle data\n",
    "#  in California\n",
    "ca_vehicle_csv = '../template/static/data/vehicle-count-as-of-1-1-2020.csv'\n",
    "green_vehicles_df = pd.read_csv(ca_vehicle_csv)\n",
    "green_vehicles_df.head()"
   ]
  },
  {
   "cell_type": "code",
   "execution_count": 3,
   "id": "fcdb553f-c99f-4600-8b92-524da5898526",
   "metadata": {},
   "outputs": [
    {
     "data": {
      "text/plain": [
       "Date          object\n",
       "Zip Code      object\n",
       "Model Year    object\n",
       "Fuel          object\n",
       "Make          object\n",
       "Duty          object\n",
       "Vehicles       int64\n",
       "dtype: object"
      ]
     },
     "execution_count": 3,
     "metadata": {},
     "output_type": "execute_result"
    }
   ],
   "source": [
    "green_vehicles_df.dtypes"
   ]
  },
  {
   "cell_type": "code",
   "execution_count": 4,
   "id": "ec6ca148-2f20-4009-baa5-82d3b06baa6c",
   "metadata": {},
   "outputs": [
    {
     "data": {
      "text/plain": [
       "602394"
      ]
     },
     "execution_count": 4,
     "metadata": {},
     "output_type": "execute_result"
    }
   ],
   "source": [
    "len(green_vehicles_df)"
   ]
  },
  {
   "cell_type": "markdown",
   "id": "7fc761ac-74e6-4d82-8fbe-5ad9faf2b33c",
   "metadata": {},
   "source": [
    "# (TRANSFORMATION): update Date to Postgres style"
   ]
  },
  {
   "cell_type": "code",
   "execution_count": 13,
   "id": "db1a4131-1bfb-49e7-a361-01541c052c7f",
   "metadata": {},
   "outputs": [],
   "source": [
    "from datetime import datetime\n",
    "\n",
    "# # Transform jobTimestamp into a date/time timestamp\n",
    "# finance_trends_df['jobTimestamp'] = pd.to_datetime(finance_trends_df['jobTimestamp'], unit='ms')\n",
    "\n",
    "# Transform startInterval into a date/time format\n",
    "green_vehicles_df['Date'] = pd.to_datetime(green_vehicles_df['Date'], format='%m/%d/%Y')"
   ]
  },
  {
   "cell_type": "code",
   "execution_count": 24,
   "id": "c2d9d5a5-0cd1-4b81-97b0-f78ad9ca8b2b",
   "metadata": {},
   "outputs": [
    {
     "data": {
      "text/plain": [
       "Date          datetime64[ns]\n",
       "Zip Code              object\n",
       "Model Year            object\n",
       "Fuel                  object\n",
       "Make                  object\n",
       "Duty                  object\n",
       "Vehicles               int64\n",
       "dtype: object"
      ]
     },
     "execution_count": 24,
     "metadata": {},
     "output_type": "execute_result"
    }
   ],
   "source": [
    "green_vehicles_df.dtypes"
   ]
  },
  {
   "cell_type": "code",
   "execution_count": 35,
   "id": "4c56a335-4b03-420d-8617-a1f8213c0629",
   "metadata": {},
   "outputs": [
    {
     "data": {
      "text/html": [
       "<div>\n",
       "<style scoped>\n",
       "    .dataframe tbody tr th:only-of-type {\n",
       "        vertical-align: middle;\n",
       "    }\n",
       "\n",
       "    .dataframe tbody tr th {\n",
       "        vertical-align: top;\n",
       "    }\n",
       "\n",
       "    .dataframe thead th {\n",
       "        text-align: right;\n",
       "    }\n",
       "</style>\n",
       "<table border=\"1\" class=\"dataframe\">\n",
       "  <thead>\n",
       "    <tr style=\"text-align: right;\">\n",
       "      <th></th>\n",
       "      <th>Date</th>\n",
       "      <th>Zip Code</th>\n",
       "      <th>Model Year</th>\n",
       "      <th>Fuel</th>\n",
       "      <th>Make</th>\n",
       "      <th>Duty</th>\n",
       "      <th>Vehicles</th>\n",
       "    </tr>\n",
       "  </thead>\n",
       "  <tbody>\n",
       "    <tr>\n",
       "      <th>602389</th>\n",
       "      <td>2020-01-01</td>\n",
       "      <td>OOS</td>\n",
       "      <td>Unk</td>\n",
       "      <td>Gasoline</td>\n",
       "      <td>Unk</td>\n",
       "      <td>Heavy</td>\n",
       "      <td>98</td>\n",
       "    </tr>\n",
       "    <tr>\n",
       "      <th>602390</th>\n",
       "      <td>2020-01-01</td>\n",
       "      <td>90012</td>\n",
       "      <td>Unk</td>\n",
       "      <td>Gasoline</td>\n",
       "      <td>Unk</td>\n",
       "      <td>Light</td>\n",
       "      <td>12</td>\n",
       "    </tr>\n",
       "    <tr>\n",
       "      <th>602391</th>\n",
       "      <td>2020-01-01</td>\n",
       "      <td>93065</td>\n",
       "      <td>Unk</td>\n",
       "      <td>Gasoline</td>\n",
       "      <td>Unk</td>\n",
       "      <td>Light</td>\n",
       "      <td>11</td>\n",
       "    </tr>\n",
       "    <tr>\n",
       "      <th>602392</th>\n",
       "      <td>2020-01-01</td>\n",
       "      <td>95762</td>\n",
       "      <td>Unk</td>\n",
       "      <td>Gasoline</td>\n",
       "      <td>Unk</td>\n",
       "      <td>Light</td>\n",
       "      <td>12</td>\n",
       "    </tr>\n",
       "    <tr>\n",
       "      <th>602393</th>\n",
       "      <td>2020-01-01</td>\n",
       "      <td>OOS</td>\n",
       "      <td>Unk</td>\n",
       "      <td>Gasoline</td>\n",
       "      <td>Unk</td>\n",
       "      <td>Light</td>\n",
       "      <td>52</td>\n",
       "    </tr>\n",
       "  </tbody>\n",
       "</table>\n",
       "</div>"
      ],
      "text/plain": [
       "             Date Zip Code Model Year      Fuel Make   Duty  Vehicles\n",
       "602389 2020-01-01      OOS        Unk  Gasoline  Unk  Heavy        98\n",
       "602390 2020-01-01    90012        Unk  Gasoline  Unk  Light        12\n",
       "602391 2020-01-01    93065        Unk  Gasoline  Unk  Light        11\n",
       "602392 2020-01-01    95762        Unk  Gasoline  Unk  Light        12\n",
       "602393 2020-01-01      OOS        Unk  Gasoline  Unk  Light        52"
      ]
     },
     "execution_count": 35,
     "metadata": {},
     "output_type": "execute_result"
    }
   ],
   "source": [
    "green_vehicles_df.tail()"
   ]
  },
  {
   "cell_type": "markdown",
   "id": "43c743e7-28cf-4634-88f4-865476eb8bbc",
   "metadata": {},
   "source": [
    "# 5. (LOAD) into database\n",
    "Use the values pulled in from config.py to construct the database connection string.  Connect to the database.  Write the data frames to the database tables"
   ]
  },
  {
   "cell_type": "code",
   "execution_count": 22,
   "id": "74f0b8bb-4c2c-4920-896b-32e7731d7551",
   "metadata": {},
   "outputs": [],
   "source": [
    "from sqlalchemy import create_engine\n",
    "\n",
    "# Define the engine string to be used for connecting to your database using the \n",
    "#  environment variables found in config.py\n",
    "connection_string = f'{username}:{password}@{host}:{port}/{database}'\n",
    "engine = create_engine(f'postgresql://{connection_string}')"
   ]
  },
  {
   "cell_type": "code",
   "execution_count": 29,
   "id": "6603f560-2cfb-4ae4-b14d-a1d3e29b3418",
   "metadata": {},
   "outputs": [],
   "source": [
    "# Write green_vehicles to database\n",
    "green_vehicles_df.to_sql(name='vehicleCount2020', con=engine, if_exists='append', index=False)"
   ]
  },
  {
   "cell_type": "code",
   "execution_count": 30,
   "id": "66742798-7ac2-4458-bc0f-45e74ff8728f",
   "metadata": {},
   "outputs": [
    {
     "data": {
      "text/html": [
       "<div>\n",
       "<style scoped>\n",
       "    .dataframe tbody tr th:only-of-type {\n",
       "        vertical-align: middle;\n",
       "    }\n",
       "\n",
       "    .dataframe tbody tr th {\n",
       "        vertical-align: top;\n",
       "    }\n",
       "\n",
       "    .dataframe thead th {\n",
       "        text-align: right;\n",
       "    }\n",
       "</style>\n",
       "<table border=\"1\" class=\"dataframe\">\n",
       "  <thead>\n",
       "    <tr style=\"text-align: right;\">\n",
       "      <th></th>\n",
       "      <th>date</th>\n",
       "      <th>zip_code</th>\n",
       "      <th>model_year</th>\n",
       "      <th>fuel</th>\n",
       "      <th>make</th>\n",
       "      <th>duty</th>\n",
       "      <th>vehicles</th>\n",
       "    </tr>\n",
       "  </thead>\n",
       "  <tbody>\n",
       "    <tr>\n",
       "      <th>0</th>\n",
       "      <td>2020-01-01</td>\n",
       "      <td>90027</td>\n",
       "      <td>2018</td>\n",
       "      <td>Hybrid</td>\n",
       "      <td>Nissan</td>\n",
       "      <td>light</td>\n",
       "      <td>35</td>\n",
       "    </tr>\n",
       "  </tbody>\n",
       "</table>\n",
       "</div>"
      ],
      "text/plain": [
       "         date zip_code model_year    fuel    make   duty  vehicles\n",
       "0  2020-01-01    90027       2018  Hybrid  Nissan  light        35"
      ]
     },
     "execution_count": 30,
     "metadata": {},
     "output_type": "execute_result"
    }
   ],
   "source": [
    "# Verify that there is data in finance_trends\n",
    "pd.read_sql_query(\"select * from vehicleCount2020\", con=engine).head()"
   ]
  },
  {
   "cell_type": "code",
   "execution_count": null,
   "id": "87c584c0-9a34-4eba-a073-72cd1c4a85c4",
   "metadata": {},
   "outputs": [],
   "source": []
  }
 ],
 "metadata": {
  "kernelspec": {
   "display_name": "Python 3",
   "language": "python",
   "name": "python3"
  },
  "language_info": {
   "codemirror_mode": {
    "name": "ipython",
    "version": 3
   },
   "file_extension": ".py",
   "mimetype": "text/x-python",
   "name": "python",
   "nbconvert_exporter": "python",
   "pygments_lexer": "ipython3",
   "version": "3.8.8"
  }
 },
 "nbformat": 4,
 "nbformat_minor": 5
}
